{
 "cells": [
  {
   "cell_type": "markdown",
   "metadata": {
    "vscode": {
     "languageId": "plaintext"
    }
   },
   "source": [
    "# Building a Model for Prediction\n"
   ]
  },
  {
   "cell_type": "code",
   "execution_count": 1,
   "metadata": {},
   "outputs": [],
   "source": [
    "import pandas as pd"
   ]
  },
  {
   "cell_type": "code",
   "execution_count": 2,
   "metadata": {},
   "outputs": [],
   "source": [
    "df = pd.read_csv('../data/raw/used_cars_engineered.csv')"
   ]
  },
  {
   "cell_type": "code",
   "execution_count": 3,
   "metadata": {},
   "outputs": [],
   "source": [
    "# Select features and target\n",
    "features = [\n",
    "    'brand', 'model', 'model_year', 'milage', 'fuel_type', 'engine_size',\n",
    "    'transmission', 'ext_col', 'int_col', 'car_age', 'milage_per_year'\n",
    "]\n",
    "target = 'price'\n",
    "\n",
    "# Drop rows with missing values in selected columns\n",
    "df_model = df[features + [target]].dropna()\n",
    "\n",
    "# One-hot encode categorical features\n",
    "X = pd.get_dummies(df_model[features], drop_first=True)\n",
    "y = df_model[target]"
   ]
  },
  {
   "cell_type": "code",
   "execution_count": 4,
   "metadata": {},
   "outputs": [],
   "source": [
    "from sklearn.model_selection import train_test_split\n",
    "\n",
    "X_train, X_test, y_train, y_test = train_test_split(\n",
    "    X, y, test_size=0.2, random_state=42\n",
    ")"
   ]
  },
  {
   "cell_type": "code",
   "execution_count": 6,
   "metadata": {},
   "outputs": [
    {
     "name": "stdout",
     "output_type": "stream",
     "text": [
      "Linear Regression R2: 0.6433030472292012\n",
      "Linear Regression RMSE: 1266053486.0010257\n"
     ]
    }
   ],
   "source": [
    "from sklearn.linear_model import LinearRegression\n",
    "from sklearn.metrics import mean_squared_error, r2_score\n",
    "\n",
    "lr = LinearRegression()\n",
    "lr.fit(X_train, y_train)\n",
    "y_pred_lr = lr.predict(X_test)\n",
    "\n",
    "print(\"Linear Regression R2:\", r2_score(y_test, y_pred_lr))\n",
    "print(\"Linear Regression RMSE:\", mean_squared_error(y_test, y_pred_lr))"
   ]
  },
  {
   "cell_type": "code",
   "execution_count": 8,
   "metadata": {},
   "outputs": [
    {
     "name": "stdout",
     "output_type": "stream",
     "text": [
      "KNN Regression R2: 0.24593267099240057\n",
      "KNN Regression RMSE: 2676472459.7549453\n"
     ]
    }
   ],
   "source": [
    "from sklearn.neighbors import KNeighborsRegressor\n",
    "from sklearn.preprocessing import StandardScaler\n",
    "\n",
    "# Scale features for KNN\n",
    "scaler = StandardScaler()\n",
    "X_train_scaled = scaler.fit_transform(X_train)\n",
    "X_test_scaled = scaler.transform(X_test)\n",
    "\n",
    "knn = KNeighborsRegressor(n_neighbors=5)\n",
    "knn.fit(X_train_scaled, y_train)\n",
    "y_pred_knn = knn.predict(X_test_scaled)\n",
    "\n",
    "print(\"KNN Regression R2:\", r2_score(y_test, y_pred_knn))\n",
    "print(\"KNN Regression RMSE:\", mean_squared_error(y_test, y_pred_knn))"
   ]
  },
  {
   "cell_type": "code",
   "execution_count": 9,
   "metadata": {},
   "outputs": [],
   "source": [
    "sample = {\n",
    "    'brand': 'toyota',\n",
    "    'model': 'camry se',\n",
    "    'model_year': 2018,\n",
    "    'milage': 30000,\n",
    "    'fuel_type': 'gasoline',\n",
    "    'engine_size': 2.5,\n",
    "    'transmission': 'a/t',\n",
    "    'ext_col': 'gray',\n",
    "    'int_col': 'black',\n",
    "    'car_age': 7,\n",
    "    'milage_per_year': 4285.7\n",
    "}"
   ]
  },
  {
   "cell_type": "code",
   "execution_count": null,
   "metadata": {},
   "outputs": [],
   "source": [
    "# Just creating a new dataframe for the sample\n",
    "# I just created\n",
    "sample_df = pd.DataFrame([sample])\n",
    "\n",
    "# OneHotEncoder --- to use the same columns as training data\n",
    "sample_X = pd.get_dummies(sample_df)\n",
    "sample_X = sample_X.reindex(columns=X.columns, fill_value=0)"
   ]
  },
  {
   "cell_type": "code",
   "execution_count": 11,
   "metadata": {},
   "outputs": [
    {
     "name": "stdout",
     "output_type": "stream",
     "text": [
      "Linear Regression predicted price: 35383.52864581323\n"
     ]
    }
   ],
   "source": [
    "pred_lr = lr.predict(sample_X)\n",
    "print(\"Linear Regression predicted price:\", pred_lr[0])"
   ]
  },
  {
   "cell_type": "code",
   "execution_count": 12,
   "metadata": {},
   "outputs": [
    {
     "name": "stdout",
     "output_type": "stream",
     "text": [
      "KNN predicted price: 37878.0\n"
     ]
    }
   ],
   "source": [
    "sample_X_scaled = scaler.transform(sample_X)\n",
    "pred_knn = knn.predict(sample_X_scaled)\n",
    "print(\"KNN predicted price:\", pred_knn[0])"
   ]
  },
  {
   "cell_type": "code",
   "execution_count": null,
   "metadata": {},
   "outputs": [],
   "source": []
  }
 ],
 "metadata": {
  "kernelspec": {
   "display_name": ".venv",
   "language": "python",
   "name": "python3"
  },
  "language_info": {
   "codemirror_mode": {
    "name": "ipython",
    "version": 3
   },
   "file_extension": ".py",
   "mimetype": "text/x-python",
   "name": "python",
   "nbconvert_exporter": "python",
   "pygments_lexer": "ipython3",
   "version": "3.13.2"
  }
 },
 "nbformat": 4,
 "nbformat_minor": 2
}
